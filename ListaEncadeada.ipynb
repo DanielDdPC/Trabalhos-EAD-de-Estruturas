{
 "cells": [
  {
   "cell_type": "code",
   "execution_count": 7,
   "metadata": {},
   "outputs": [
    {
     "name": "stdout",
     "output_type": "stream",
     "text": [
      "Para resultado ordenado: Insira apenas valores inteiros, usando a função lista.insert().\n"
     ]
    }
   ],
   "source": [
    "class Node:\n",
    "    def __init__(self, data):\n",
    "        self.data = data\n",
    "        self.next = None\n",
    "        self.previous = None\n",
    "    \n",
    "class ListaEncadeada:\n",
    "    print (\"Para resultado ordenado: Insira apenas valores inteiros, usando a função lista.insert().\") \n",
    "    \n",
    "    def __init__(self):\n",
    "        self.first = None\n",
    "        self.last = None\n",
    "        self._size = 0\n",
    "        \n",
    "    def insert (self, elem):\n",
    "        \n",
    "        if self._size == 0 or elem >= self.last.data:\n",
    "            return self.insertlast(elem)\n",
    "        elif elem <= self.first.data:\n",
    "            return self.insertfirst(elem)\n",
    "        else: \n",
    "            node = Node(elem)\n",
    "            pointer = self.first\n",
    "            while pointer.data < node.data:\n",
    "                pointer = pointer.next\n",
    "            \n",
    "            node.next = pointer\n",
    "            node.previous = pointer.previous\n",
    "            pointer.previous.next = node\n",
    "            pointer.previous = node\n",
    "            self._size = self._size + 1    \n",
    "        \n",
    "    def insertfirst (self, elem):\n",
    "        node = Node(elem)\n",
    "        node.next = self.first\n",
    "        node.previous = self.last\n",
    "        self.first = node\n",
    "        \n",
    "        if self._size == 0:\n",
    "            self.last = node\n",
    "        else:\n",
    "            self.first.next.previous = node\n",
    "            self.last.next = node\n",
    "        \n",
    "        self._size = self._size + 1 \n",
    "        \n",
    "    def insertlast (self, elem):\n",
    "        node = Node(elem)\n",
    "        node.next = self.first\n",
    "        node.previous = self.last\n",
    "        self.last = node\n",
    "        \n",
    "        if self._size == 0:\n",
    "            self.first = node\n",
    "        else:\n",
    "            self.last.previous.next = node\n",
    "            self.first.previous = node\n",
    "        \n",
    "        self._size = self._size + 1  \n",
    "         \n",
    "    \n",
    "    def removefirst (self):\n",
    "        if self._size != 0:\n",
    "           elem = self.first.data\n",
    "           self.first = self.first.next\n",
    "           self.first.previous = self.last\n",
    "           self.last.next = self.first\n",
    "           self._size = self._size - 1\n",
    "           return(elem)\n",
    "        else:\n",
    "            raise IndexError(\"A Fila está vazia agora.\")\n",
    "            \n",
    "    def removelast (self):\n",
    "        if self._size != 0:\n",
    "           elem = self.last.data\n",
    "           self.last = self.last.previous\n",
    "           self.first.previous = self.last\n",
    "           self.last.next = self.first\n",
    "           self._size = self._size - 1\n",
    "           return(elem)\n",
    "        else:\n",
    "            raise IndexError(\"A Fila está vazia agora.\")\n",
    "        \n",
    "        \n",
    "    def peek (self):\n",
    "        if self._size != 0:\n",
    "           return (self.first.data) \n",
    "        else: \n",
    "             raise IndexError(\"A Fila está vazia agora.\")\n",
    "                \n",
    "    def restart (self):\n",
    "        while self.first:\n",
    "            lista.removelast()\n",
    "        \n",
    "        return self._repr_()\n",
    "        \n",
    "    def __len__(self):\n",
    "        return self._size\n",
    "        \n",
    "    def __repr__(self):\n",
    "        \n",
    "        if self._size > 0:\n",
    "            r = \"\" + str(self.first.data)+ \" \"\n",
    "            if self._size > 1:\n",
    "                pointer = self.first.next\n",
    "                while (pointer!=self.first):\n",
    "                    r = r + str(pointer.data) + \" \"\n",
    "                    pointer = pointer.next\n",
    "                    \n",
    "            return r\n",
    "        return \"Fila Vazia...\"\n",
    "        \n",
    "    def __str__(self):\n",
    "        return self.__repr__()\n",
    "    \n",
    "    def remove(self, index):\n",
    "        \n",
    "        if self._size > 0 and index < self._size:\n",
    "            pointer = self.first\n",
    "            i = 0\n",
    "    \n",
    "            while i != index:\n",
    "                pointer = pointer.next\n",
    "                i += 1 \n",
    "                \n",
    "            elem = pointer.data    \n",
    "            \n",
    "            if index == 0:\n",
    "                if self._size == 1:\n",
    "                    self.first = None\n",
    "                    self.last = None\n",
    "                    self._size = self._size - 1\n",
    "                    return(elem)\n",
    "                \n",
    "                self.first = self.first.next\n",
    "                \n",
    "            if index == self._size - 1:\n",
    "                self.last = self.last.previous\n",
    "                \n",
    "            pointer.next.previous = pointer.previous\n",
    "            pointer.previous.next = pointer.next\n",
    "            self._size = self._size - 1\n",
    "            return (elem)\n",
    "                \n",
    "        return \"Não será possível...\"    \n",
    "        "
   ]
  },
  {
   "cell_type": "code",
   "execution_count": 38,
   "metadata": {},
   "outputs": [],
   "source": [
    "lista = ListaEncadeada()"
   ]
  },
  {
   "cell_type": "code",
   "execution_count": 40,
   "metadata": {},
   "outputs": [
    {
     "data": {
      "text/plain": [
       "0"
      ]
     },
     "execution_count": 40,
     "metadata": {},
     "output_type": "execute_result"
    }
   ],
   "source": [
    "len(lista)"
   ]
  },
  {
   "cell_type": "code",
   "execution_count": 41,
   "metadata": {},
   "outputs": [
    {
     "data": {
      "text/plain": [
       "Fila Vazia..."
      ]
     },
     "execution_count": 41,
     "metadata": {},
     "output_type": "execute_result"
    }
   ],
   "source": [
    "lista"
   ]
  },
  {
   "cell_type": "code",
   "execution_count": 42,
   "metadata": {},
   "outputs": [],
   "source": [
    "    lista.insertfirst(\"Paulo\")\n",
    "    lista.insertfirst(\"Ana\")\n",
    "    lista.insertlast(\"Maria\")\n",
    "    lista.insertlast(\"Gabriela\")\n",
    "    lista.insertfirst(\"Pedro\")\n",
    "    lista.insertlast(\"Renata\")\n",
    "    lista.insertfirst(\"João\")\n",
    "    lista.insertlast(\"Sergio\")\n",
    "    lista.insertfirst(\"Ricardo\")"
   ]
  },
  {
   "cell_type": "code",
   "execution_count": 43,
   "metadata": {},
   "outputs": [
    {
     "data": {
      "text/plain": [
       "Angela Ricardo João Pedro Ana Paulo Maria Gabriela Renata Sergio Bruno "
      ]
     },
     "execution_count": 43,
     "metadata": {},
     "output_type": "execute_result"
    }
   ],
   "source": [
    "lista"
   ]
  },
  {
   "cell_type": "code",
   "execution_count": 44,
   "metadata": {},
   "outputs": [
    {
     "data": {
      "text/plain": [
       "'Angela'"
      ]
     },
     "execution_count": 44,
     "metadata": {},
     "output_type": "execute_result"
    }
   ],
   "source": [
    "lista.removefirst()"
   ]
  },
  {
   "cell_type": "code",
   "execution_count": 45,
   "metadata": {},
   "outputs": [
    {
     "data": {
      "text/plain": [
       "'Bruno'"
      ]
     },
     "execution_count": 45,
     "metadata": {},
     "output_type": "execute_result"
    }
   ],
   "source": [
    "lista.removelast()"
   ]
  },
  {
   "cell_type": "code",
   "execution_count": 46,
   "metadata": {},
   "outputs": [
    {
     "data": {
      "text/plain": [
       "'Paulo'"
      ]
     },
     "execution_count": 46,
     "metadata": {},
     "output_type": "execute_result"
    }
   ],
   "source": [
    "lista.remove(4)"
   ]
  },
  {
   "cell_type": "code",
   "execution_count": 47,
   "metadata": {},
   "outputs": [
    {
     "data": {
      "text/plain": [
       "Ricardo João Pedro Ana Maria Gabriela Renata Sergio "
      ]
     },
     "execution_count": 47,
     "metadata": {},
     "output_type": "execute_result"
    }
   ],
   "source": [
    "lista"
   ]
  },
  {
   "cell_type": "code",
   "execution_count": null,
   "metadata": {},
   "outputs": [],
   "source": []
  }
 ],
 "metadata": {
  "kernelspec": {
   "display_name": "Python 3",
   "language": "python",
   "name": "python3"
  },
  "language_info": {
   "codemirror_mode": {
    "name": "ipython",
    "version": 3
   },
   "file_extension": ".py",
   "mimetype": "text/x-python",
   "name": "python",
   "nbconvert_exporter": "python",
   "pygments_lexer": "ipython3",
   "version": "3.8.6"
  }
 },
 "nbformat": 4,
 "nbformat_minor": 4
}
