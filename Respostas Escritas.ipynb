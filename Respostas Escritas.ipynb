{
 "cells": [
  {
   "cell_type": "code",
   "execution_count": 3,
   "metadata": {},
   "outputs": [
    {
     "name": "stdout",
     "output_type": "stream",
     "text": [
      "Raiz = G\n",
      "Raiz = I\n",
      "Raiz = D\n",
      "Em árvore não-binárias, máxima de 28 e mínina de 2 ////\n",
      "Em árvore binária, máxima de 28 e mínima de 5\n",
      "7 --- 15 ---- 4095\n",
      "5 Níveis\n"
     ]
    }
   ],
   "source": [
    "# 3) Ache a raiz de cada uma das seguintes árvores binárias:\n",
    "\n",
    "# a) Árvore com percurso pós-ordem: FCBDG\n",
    "    \n",
    "print(\"Raiz = G\") \n",
    "\n",
    "# b) Árvore com percurso pré-ordem (profundidade): IBCDFEN\n",
    "\n",
    "print(\"Raiz = I\")\n",
    "\n",
    "# c) Árvore com percurso em ordem simétrica (assuma que é uma árvore binária cheia): CBIDFGE\n",
    "\n",
    "print (\"Raiz = D\")\n",
    "\n",
    "# 4) Qual a altura máxima e mínima de uma árvore com 28 nós?\n",
    "\n",
    "print (\"Em árvore não-binárias, máxima de 28 e mínina de 2 ////\")\n",
    "print (\"Em árvore binária, máxima de 28 e mínima de 5\")\n",
    "\n",
    "# 5) Em uma árvore binária, qual é o número máximo de nós que pode ser achado nos níveis 3, 4 e 12?\n",
    "\n",
    "print (\"7 --- 15 ---- 4095\")\n",
    "\n",
    "# 6) Qual é o menor número de níveis que uma árvore binária com 42 nós pode apresentar?\n",
    "print (\"6 Níveis\")\n"
   ]
  },
  {
   "cell_type": "code",
   "execution_count": null,
   "metadata": {},
   "outputs": [],
   "source": []
  }
 ],
 "metadata": {
  "kernelspec": {
   "display_name": "Python 3",
   "language": "python",
   "name": "python3"
  },
  "language_info": {
   "codemirror_mode": {
    "name": "ipython",
    "version": 3
   },
   "file_extension": ".py",
   "mimetype": "text/x-python",
   "name": "python",
   "nbconvert_exporter": "python",
   "pygments_lexer": "ipython3",
   "version": "3.8.6"
  }
 },
 "nbformat": 4,
 "nbformat_minor": 4
}
