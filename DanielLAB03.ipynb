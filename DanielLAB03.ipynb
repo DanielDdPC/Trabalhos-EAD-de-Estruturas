{
 "cells": [
  {
   "cell_type": "markdown",
   "metadata": {},
   "source": [
    "# Árvores\n",
    "fonte: Wikipedia\n",
    "\n",
    "Na teoria dos grafos, uma árvore é um grafo conexo (existe caminho entre quaisquer dois de seus vértices) e acíclico (não possui ciclos)[1][2]. Caso o grafo seja acíclico mas não conexo, ele é dito uma floresta. Uma floresta também é definida como uma união disjunta de árvores.\n",
    "\n",
    "Toda árvore é um grafo, mas nem todo grafo é uma árvore. Toda árvore é um grafo bipartido e planar. Todo grafo conexo possui pelo menos uma árvore de extensão associada, composta de todos os seus vértices e algumas de suas arestas. \n",
    "\n",
    "Seja G um grafo de n vértices. G é uma árvore se satisfaz as seguintes condições:\n",
    "\n",
    "* G é conexo e há exatamente um caminho entre dois vértices quaisquer. Já em uma floresta, há no máximo um caminho entre dois vértices, devido à não-conectividade.\n",
    "* G é acíclico, e um simples ciclo é formado se qualquer aresta for adicionada a G.\n",
    "* G é conexo, e deixará de ser conexo se qualquer aresta for removida de G.\n",
    "* G é conexo, acíclico e tem n − 1 arestas.\n",
    "\n",
    "<img src=\"./img/arvore.png\" alt=\"./img/arvore.png\" width=\"200\"/>\n"
   ]
  },
  {
   "cell_type": "code",
   "execution_count": null,
   "metadata": {},
   "outputs": [],
   "source": []
  },
  {
   "cell_type": "markdown",
   "metadata": {},
   "source": [
    "Testando uma estrutura de árvore simples."
   ]
  },
  {
   "cell_type": "code",
   "execution_count": null,
   "metadata": {},
   "outputs": [],
   "source": []
  },
  {
   "cell_type": "markdown",
   "metadata": {},
   "source": [
    "Árvore criada:"
   ]
  },
  {
   "cell_type": "code",
   "execution_count": null,
   "metadata": {},
   "outputs": [],
   "source": []
  },
  {
   "cell_type": "code",
   "execution_count": null,
   "metadata": {},
   "outputs": [],
   "source": []
  },
  {
   "cell_type": "markdown",
   "metadata": {},
   "source": [
    "### Atividade\n",
    "\n",
    "Implemente o algoritmo mostra_largura na classe Arvore, que deve exibir os nós da árvore através de uma estratégia de busca em largura.\n",
    "\n",
    "Em seguida, teste seu código aqui:"
   ]
  },
  {
   "cell_type": "code",
   "execution_count": null,
   "metadata": {},
   "outputs": [],
   "source": [
    "#https://github.com/DanielDdPC/Trabalhos-EAD-de-Estruturas/blob/main/Arvore.ipynb\n",
    "class Node:\n",
    "    def __init__(self, data):\n",
    "        self.data = data\n",
    "        self.prox = []\n",
    "        \n",
    "    def adiciona(self, node):\n",
    "        self.prox.insert(0,node)\n",
    "    \n",
    "    def __str__(self):\n",
    "        return str(self.data)\n",
    "        \n",
    "class Arvore:         \n",
    "    def __init__(self, node):\n",
    "        self.raiz = node\n",
    "    def mostra_largura(self):\n",
    "        node = self.raiz\n",
    "        self.pintura(node)\n",
    "        k = 0\n",
    "        while k < 3:\n",
    "            for i in reversed(range(len(node.prox))):\n",
    "               self.pintura(node.prox[i])\n",
    "            \n",
    "            if len(node.prox) > 0:\n",
    "                node = node.prox[len(node.prox)-1]\n",
    "            k += 1\n",
    "        \n",
    "    def pintura(self, node):\n",
    "        if node is self.raiz:\n",
    "            print(node.data)\n",
    "            \n",
    "        if node.prox is not None:\n",
    "            for i in reversed(range(len(node.prox))):    \n",
    "                print (node.prox[i].data)      \n",
    "        \n",
    "        \n",
    "raiz = Node(1)\n",
    "arvore = Arvore(raiz)\n",
    "node2 = Node(2)\n",
    "node3 = Node(3)\n",
    "node4 = Node(4)\n",
    "node5 = Node(5)\n",
    "node6 = Node(6)\n",
    "node7 = Node(7)\n",
    "node8 = Node(8)\n",
    "node9 = Node(9)\n",
    "node10 = Node(10)\n",
    "node11 = Node(11)\n",
    "\n",
    "raiz.adiciona(node2)\n",
    "raiz.adiciona(node3)\n",
    "raiz.adiciona(node4)\n",
    "node2.adiciona(node5)\n",
    "node2.adiciona(node6)\n",
    "node3.adiciona(node7)\n",
    "node4.adiciona(node8)\n",
    "node4.adiciona(node9)\n",
    "node5.adiciona(node10)\n",
    "node5.adiciona(node11)\n"
   ]
  },
  {
   "cell_type": "markdown",
   "metadata": {},
   "source": [
    "## Árvore Binária\n",
    "Árvores binárias são uma das árvores mais usadas em computação\n",
    "\n",
    "Conjunto finito T de zero ou mais nós (nodos), tal que: \n",
    "\n",
    "Se número de nós é maior do que zero\n",
    "* existe um nó denominado raiz da árvore\n",
    "* os demais nós formam 2 conjuntos disjuntos S1, S2 (subárvore da esquerda e subárvore da direita) onde cada um destes é uma árvore binária\n",
    "\n",
    "Se número de nós é igual a zero\n",
    "* árvore vazia"
   ]
  },
  {
   "cell_type": "code",
   "execution_count": 1,
   "metadata": {},
   "outputs": [],
   "source": [
    "#https://github.com/DanielDdPC/Trabalhos-EAD-de-Estruturas/blob/main/ArvoreBinaria.ipynb\n",
    "ROOT = \"root\"\n",
    "class Fila:\n",
    "    def __init__(self):\n",
    "        self.first = None\n",
    "        self.last = None\n",
    "        self._size = 0\n",
    "        \n",
    "    def push (self, elem):\n",
    "        if self._size > 0:\n",
    "            self.last.next = elem\n",
    "        else:    \n",
    "            self.first = elem\n",
    "            \n",
    "        self.last = elem\n",
    "        self._size = self._size + 1    \n",
    "        \n",
    "    def pop (self):\n",
    "        if self._size != 0:\n",
    "            elem = self.first\n",
    "            self.first = self.first.next\n",
    "            self._size = self._size - 1\n",
    "            return(elem)\n",
    "        else:\n",
    "            raise IndexError(\"A Fila está vazia, mano.\")\n",
    "        \n",
    "        \n",
    "    def peek (self):\n",
    "        if self._size != 0:\n",
    "             return (self.first.data) \n",
    "        else: \n",
    "             raise IndexError(\"A Fila está vazia, mano.\")\n",
    "        \n",
    "    def __len__(self):\n",
    "        return self._size\n",
    "        \n",
    "    def __repr__(self):\n",
    "        \n",
    "        if self._size > 0:\n",
    "            r = \"\"\n",
    "            pointer = self.first\n",
    "            while (pointer):\n",
    "                r = r + str(pointer.data) + \" \"\n",
    "                pointer = pointer.next\n",
    "            return r\n",
    "        return \"Fila Vazia...\"\n",
    "        \n",
    "    def __str__(self):\n",
    "        return self.__repr__()\n",
    "    \n",
    "    \n",
    "# ========================================================================================================\n",
    "# ========================================================================================================\n",
    "# ========================================================================================================\n",
    "class Node:\n",
    "    def __init__(self, data):\n",
    "        self.data = data\n",
    "        self.right = None\n",
    "        self.left = None\n",
    "        self.next = None\n",
    "    \n",
    "    def __str__(self):\n",
    "         return str(self.data)\n",
    "        \n",
    "    \n",
    "class ArvoreBinaria:\n",
    "    \n",
    "    def __init__(self, data=None):\n",
    "        node = Node(data)\n",
    "        self.raiz = node\n",
    "   \n",
    "    def root(self, node):\n",
    "        self.raiz = node\n",
    "        contador =+ 1\n",
    "    \n",
    "    def insertleft(self, node, node_pai):\n",
    "        node_pai.left = node\n",
    "        contador =+ 1\n",
    "        \n",
    "    def insertright(self, node, node_pai):\n",
    "        node_pai.right = node\n",
    "        contador =+ 1\n",
    "        \n",
    "    def mostra_largura(self, node=ROOT):\n",
    "        if node == ROOT:\n",
    "            node = self.raiz\n",
    "        teste = Fila()\n",
    "        teste.push(node)\n",
    "        while len(teste):\n",
    "            node = teste.pop()\n",
    "            if node.left:\n",
    "                teste.push(node.left)\n",
    "            if node.right:\n",
    "                teste.push(node.right)\n",
    "            print(node, end= \" \") \n",
    "    \n",
    "    def invert(self, node=None):\n",
    "        if node is None:\n",
    "            node = self.raiz\n",
    "        if node.left and node.right:    \n",
    "            aux = node.left\n",
    "            node.left = node.right\n",
    "            node.right = aux\n",
    "            self.invert(node.left)\n",
    "            self.invert(node.right)\n",
    "        \n",
    "def full(raiz): \n",
    "     \n",
    "        if raiz is None:     \n",
    "            return True\n",
    "      \n",
    "        if raiz.left is None and raiz.right is None: \n",
    "            return True\n",
    "  \n",
    "        if raiz.left is not None and raiz.right is not None: \n",
    "            return (full(raiz.left) and full(raiz.right)) \n",
    "      \n",
    "        return False   \n",
    "\n",
    "def height(raiz):\n",
    "    if raiz is None:\n",
    "        return 0\n",
    "    return 1 + max(height(raiz.left), height(raiz.right))\n",
    "        \n",
    "tree = ArvoreBinaria()        \n",
    "        \n",
    "raiz = Node(1)\n",
    "node2 = Node(2)\n",
    "node3 = Node(3)\n",
    "node4 = Node(4)\n",
    "node5 = Node(5)\n",
    "node6 = Node(6)\n",
    "node7 = Node(7)\n",
    "node8 = Node(8)\n",
    "node9 = Node(9)\n",
    "node10 = Node(10)\n",
    "node11 = Node(11)\n",
    "node12 = Node(12)\n",
    "node13 = Node(13)\n",
    "node14 = Node(14)\n",
    "node15 = Node(15)\n",
    "\n",
    "tree.root(raiz)\n",
    "tree.insertleft(node2, raiz)\n",
    "tree.insertright(node3, raiz)\n",
    "tree.insertleft(node4, node2)\n",
    "tree.insertright(node5, node2)\n",
    "tree.insertleft(node6, node3)\n",
    "tree.insertright(node7, node3)\n",
    "tree.insertleft(node8, node4)\n",
    "tree.insertright(node9, node5)\n",
    "tree.insertleft(node10, node6)\n",
    "tree.insertright(node11, node6)\n",
    "tree.insertright(node12, node7)\n",
    "tree.insertleft(node13, node7)\n",
    "tree.insertright(node14, node4)\n",
    "tree.insertleft(node15, node5)\n"
   ]
  },
  {
   "cell_type": "code",
   "execution_count": null,
   "metadata": {},
   "outputs": [],
   "source": []
  },
  {
   "cell_type": "markdown",
   "metadata": {},
   "source": [
    "#### Atividade\n",
    "\n",
    "Implemente o algoritmo mostra_largura na classe ArvoreBinaria, que deve exibir os nós da árvore através de uma estratégia de busca em largura.\n",
    "\n",
    "Em seguida, teste seu código aqui:\n"
   ]
  },
  {
   "cell_type": "code",
   "execution_count": 6,
   "metadata": {},
   "outputs": [
    {
     "name": "stdout",
     "output_type": "stream",
     "text": [
      "1 2 3 4 5 6 7 8 14 15 9 10 11 13 12 "
     ]
    }
   ],
   "source": [
    "tree.mostra_largura()   "
   ]
  },
  {
   "cell_type": "markdown",
   "metadata": {},
   "source": [
    "#### Atividades\n",
    "\n",
    "1) Escreva uma função que determine se uma árvore binária é cheia ou não."
   ]
  },
  {
   "cell_type": "code",
   "execution_count": 7,
   "metadata": {},
   "outputs": [
    {
     "data": {
      "text/plain": [
       "True"
      ]
     },
     "execution_count": 7,
     "metadata": {},
     "output_type": "execute_result"
    }
   ],
   "source": [
    "full(raiz)"
   ]
  },
  {
   "cell_type": "markdown",
   "metadata": {},
   "source": [
    "2) Escreva uma função que cria uma imagem espelho de uma árvore binária, isto é, todos os filhos à esquerda tornam-se filhos à direita, e vice-versa."
   ]
  },
  {
   "cell_type": "code",
   "execution_count": 8,
   "metadata": {},
   "outputs": [
    {
     "name": "stdout",
     "output_type": "stream",
     "text": [
      "1 3 2 7 6 5 4 12 13 11 10 9 15 14 8 "
     ]
    }
   ],
   "source": [
    "tree.invert()\n",
    "tree.mostra_largura()"
   ]
  },
  {
   "cell_type": "markdown",
   "metadata": {},
   "source": [
    "3) Ache a raiz de cada uma das seguintes árvores binárias:\n",
    "\n",
    "a) Árvore com percurso pós-ordem: FCBDG"
   ]
  },
  {
   "cell_type": "markdown",
   "metadata": {},
   "source": [
    "print(\"Raiz = G\") "
   ]
  },
  {
   "cell_type": "markdown",
   "metadata": {},
   "source": [
    "b) Árvore com percurso pré-ordem (profundidade): IBCDFEN"
   ]
  },
  {
   "cell_type": "markdown",
   "metadata": {},
   "source": [
    "print(\"Raiz = I\")"
   ]
  },
  {
   "cell_type": "markdown",
   "metadata": {},
   "source": [
    "c) Árvore com percurso em ordem simétrica (assuma que é uma árvore binária cheia): CBIDFGE"
   ]
  },
  {
   "cell_type": "markdown",
   "metadata": {},
   "source": [
    "print (\"Raiz = D\")"
   ]
  },
  {
   "cell_type": "markdown",
   "metadata": {},
   "source": [
    "4) Qual a altura máxima e mínima de uma árvore binária com 28 nós?"
   ]
  },
  {
   "cell_type": "markdown",
   "metadata": {},
   "source": [
    "print (\"Em árvore não-binárias, máxima de 28 e mínina de 2 ////\")\n",
    "print (\"Em árvore binária, máxima de 28 e mínima de 5\")"
   ]
  },
  {
   "cell_type": "markdown",
   "metadata": {},
   "source": [
    "5) Em uma árvore binária, qual é o número máximo de nós que pode ser achado nos níveis 3, 4 e 12?"
   ]
  },
  {
   "cell_type": "markdown",
   "metadata": {},
   "source": [
    "print (\"Na árvore binária inteira \", \"7 --- 15 ---- 4095\")"
   ]
  },
  {
   "cell_type": "markdown",
   "metadata": {},
   "source": [
    "6) Qual é o menor número de níveis que uma árvore binária com 42 nós pode apresentar?"
   ]
  },
  {
   "cell_type": "markdown",
   "metadata": {},
   "source": [
    "print (\"6 Níveis\")"
   ]
  },
  {
   "cell_type": "markdown",
   "metadata": {},
   "source": [
    "7) Escreva um algoritmo não recursivo para percurso de uma árvore binária em ordem simétrica. Dica: usar uma pilha."
   ]
  },
  {
   "cell_type": "code",
   "execution_count": 9,
   "metadata": {},
   "outputs": [],
   "source": [
    "#https://github.com/DanielDdPC/Trabalhos-EAD-de-Estruturas/blob/main/Percurso%20N%C3%A3o%20Recursivo.ipynb\n",
    "class Node:\n",
    "    def __init__(self, data):\n",
    "        self.data = data\n",
    "        self.left = None \n",
    "        self.right = None\n",
    "        self.next = None\n",
    "\n",
    "class ArvoreBinaria:\n",
    "    def __init__(self, data=None):\n",
    "        node = Node(data)\n",
    "        self.raiz = node\n",
    "        \n",
    "    def root(self, node):\n",
    "        node = Node(node)\n",
    "        self.raiz = node\n",
    "    \n",
    "    def insertleft(self, node, node_pai):\n",
    "        node_pai.left = node\n",
    "\n",
    "    def insertright(self, node, node_pai):\n",
    "        node_pai.right = node\n",
    "\n",
    "class Pilha:\n",
    "\n",
    "    def __init__(self):\n",
    "        self.top = None\n",
    "        self._size = 0\n",
    "        \n",
    "    def push (self, node):\n",
    "        node.next = self.top\n",
    "        self.top = node\n",
    "        self._size = self._size + 1\n",
    "    \n",
    "    def pop  (self):\n",
    "        if self._size > 0:\n",
    "            node = self.top\n",
    "            self.top = self.top.next\n",
    "            self._size = self._size - 1\n",
    "            return node\n",
    "        raise IndexError(\"A Pilha está vazia\")\n",
    "    \n",
    "    def peek (self):\n",
    "        if self._size > 0:\n",
    "            return self.top\n",
    "    \n",
    "    def __len__(self):\n",
    "        return self._size\n",
    "    \n",
    "    def __repr__(self):\n",
    "        r = \"\"\n",
    "        pointer = self.top\n",
    "        while (pointer):\n",
    "            r = r + str(pointer.data) + \"\\n\"\n",
    "            pointer = pointer.next\n",
    "        return r\n",
    "    \n",
    "    def __str__(self):\n",
    "        return self.__repr__()        \n",
    "        \n",
    "            \n",
    "def inorder(raiz):\n",
    "        no = raiz\n",
    "        pilha = Pilha()\n",
    "        while True:\n",
    "            if no is not None:\n",
    "                pilha.push(no)\n",
    "                no = no.left\n",
    "            elif(pilha):\n",
    "                no = pilha.pop()\n",
    "                print(no.data, end=\" \")\n",
    "                \n",
    "                no = no.right\n",
    "            else:\n",
    "                break\n",
    "        print()       \n",
    "            \n",
    "tree = ArvoreBinaria()\n",
    "raiz = Node(1)\n",
    "node2 = Node(2)\n",
    "node3 = Node(3)\n",
    "node4 = Node(4)\n",
    "node5 = Node(5)\n",
    "node6 = Node(6)\n",
    "node7 = Node(7)\n",
    "node8 = Node(8)\n",
    "node9 = Node(9)\n",
    "node10 = Node(10)\n",
    "node11 = Node(11)\n",
    "node12 = Node(12)\n",
    "\n",
    "tree.root(raiz)\n",
    "tree.insertleft(node2, raiz)\n",
    "tree.insertright(node3, raiz)\n",
    "tree.insertleft(node4, node2)\n",
    "tree.insertright(node5, node2)\n",
    "tree.insertleft(node6, node3)\n",
    "tree.insertright(node7, node3)\n",
    "tree.insertleft(node8, node4)\n",
    "tree.insertright(node9, node5)\n",
    "tree.insertleft(node10, node6)\n",
    "tree.insertright(node11, node6)\n",
    "tree.insertleft(node12, node7)"
   ]
  },
  {
   "cell_type": "markdown",
   "metadata": {},
   "source": [
    "8) Escreva um algoritmo não recursivo para percurso de uma árvore binária em pós- ordem. Dica: usar uma pilha."
   ]
  },
  {
   "cell_type": "code",
   "execution_count": 10,
   "metadata": {},
   "outputs": [],
   "source": [
    "def postorder(raiz):\n",
    "    no = raiz\n",
    "    pilha = Pilha()\n",
    "    while True:\n",
    "        while (no):\n",
    "                if no.right is not None:\n",
    "                    pilha.push(no.right)\n",
    "                pilha.push(no)\n",
    "               \n",
    "                no = no.left\n",
    "         \n",
    "        no = pilha.pop()\n",
    "        if (no.right is not None and pilha.peek() == no.right):\n",
    "                pilha.pop()\n",
    "                pilha.push(no)\n",
    "                no = no.right\n",
    "        else:\n",
    "            print(no.data, end=\" \")\n",
    "            no = None\n",
    "            \n",
    "        if pilha._size <= 0:\n",
    "            break  "
   ]
  },
  {
   "cell_type": "markdown",
   "metadata": {},
   "source": [
    "### Árvore Binária de Busca\n",
    "fonte: https://algoritmosempython.com.br/cursos/algoritmos-python/estruturas-dados/arvores/\n",
    "\n",
    "Árvores binárias de pesquisa (ou Binary Search Tress - BSTs, do Inglês) são árvores cujos nós são organizados de acordo com algumas propriedades. Mais formalmente, podemos definir árvores binárias de pesquisa como abaixo:\n",
    "\n",
    "Definição de Árvore Binária de Pesquisa: \n",
    "Seja x um nó em uma árvore binária de pesquisa. Se y é um nodo na sub-árvore esquerda de x, então y.chave ≤ x.chave. Se y é um nodo na sub-árvore direita de x, então y.chave ≥ x.chave.\n",
    "\n",
    "Em outras palavras, árvores binárias de pesquisa são árvores que obedecem às seguintes propriedades:\n",
    "\n",
    "* Dado um nodo qualquer da árvore, todos os nodos à esqueda dele são menores ou iguais a ele.\n",
    "* Dado um nodo qualquer da árvore, todos os nodos à direita dele são maiores ou iguais a ele.\n",
    "\n",
    "Para simplificar as coisas, não permitiremos elementos repetidos em nossas implementações de BSTs, portanto, nodos à esquerda de um nodo sempre serão menores que ele, e nodos à direita de um nodo serão sempre maiores que ele.\n",
    "\n",
    "#### Busca\n",
    "Diversas aplicações precisam buscar um determinado valor em um conjunto de dados Essa busca deve ser feita da forma mais eficiente possível\n",
    "\n",
    "Árvores binárias possibilitam buscas com eficiência\n",
    "\n",
    "Exemplo: buscar dados de uma pessoa que possui um determinado CPF Dados das pessoas são armazenados numa árvore binária de busca\n",
    "\n",
    "CPF funciona como “chave”, pois é único para cada pessoa (não existem duas pessoas com o mesmo CPF)\n",
    "\n",
    "#### Caminhamentos em Árvore\n",
    "\n",
    "Caminhamentos em árvore são formas de visitarmos todos os nodos de uma árvore em uma ordem pré-definida. Existem três tipos de caminhamentos básicos: pré-ordem, em ordem, e pós-ordem. Esses três tipos de caminhamentos são bem parecidos, como veremos abaixo.\n",
    "\n",
    "Começaremos nossa explicação com o caminhamento em ordem. Nesse tipo de caminhamento, visitamos recursivamente o nodo da esquerda, visitamos o nodo corrente, e visitamos recursivamente o nodo da direita. Assim, dadas as restrições de uma árvore binária de pesquisa, ao realizarmos o caminhamento em ordem, estaremos de fato visitando os nodos em ordem crescente de chaves. Entretanto, os três tipos de caminhamentos explicados aqui podem ser usados para qualquer tipo de árvore. A única diferença é que ordem em que os nodos serão impressos. Por exemplo, o caminhamento em ordem em uma BST imprime os nodos em ordem crescente, mas em uma árvore binária qualquer a ordem pode não ser essa.\n",
    "\n",
    "#### Forma\n",
    "Para um mesmo conjunto de chaves, existem várias árvores binárias de busca possíveis\n",
    "\n",
    "Exemplos para o conjunto de chaves: {1, 2, 3, 4, 5, 6, 7}\n",
    "\n",
    "<img src=\"./img/arvore_bin.png\" alt=\"Árvore Binária de Busca\" width=\"350\"/>\n"
   ]
  },
  {
   "cell_type": "code",
   "execution_count": null,
   "metadata": {},
   "outputs": [],
   "source": []
  },
  {
   "cell_type": "markdown",
   "metadata": {},
   "source": [
    "A representação gráfica da árvore acima"
   ]
  },
  {
   "cell_type": "code",
   "execution_count": null,
   "metadata": {},
   "outputs": [],
   "source": []
  },
  {
   "cell_type": "markdown",
   "metadata": {},
   "source": [
    "#### Atividade\n",
    "\n",
    "Implemente o algoritmo mostra_largura na classe ArvoreBinariaBusca, que deve exibir os nós da árvore através de uma estratégia de busca em largura.\n",
    "\n",
    "Em seguida, teste seu código aqui:\n"
   ]
  },
  {
   "cell_type": "code",
   "execution_count": 12,
   "metadata": {},
   "outputs": [],
   "source": [
    "#https://github.com/DanielDdPC/Trabalhos-EAD-de-Estruturas/blob/main/BINARIA%20DE%20BUSCA.ipynb\n",
    "class Node:\n",
    "    def __init__(self, data):\n",
    "        self.data = data\n",
    "        self.right = None\n",
    "        self.left = None\n",
    "    \n",
    "    def __str__(self):\n",
    "         return str(self.data)\n",
    "        \n",
    "class ArvoreBinaria:\n",
    "    \n",
    "    k = 0\n",
    "    contador = 0\n",
    "    \n",
    "    def __init__(self, data=None, node=None):\n",
    "        if node:\n",
    "            self.raiz = node\n",
    "        elif data:    \n",
    "            node = Node(data)\n",
    "            self.raiz = node\n",
    "        else:\n",
    "            self.raiz = None\n",
    "   \n",
    "    def root(self, node):\n",
    "        self.raiz = node\n",
    "    \n",
    "    def insertleft(self, node, node_pai):\n",
    "        node_pai.left = node\n",
    "\n",
    "    def insertright(self, node, node_pai):\n",
    "        node_pai.right = node\n",
    "        \n",
    "    def mostra_largura(self, node=None):\n",
    "        if node is None:\n",
    "            node = self.raiz\n",
    "        self.k += 1\n",
    "        if self.k < 2:\n",
    "            print(node)\n",
    "            self.contador += 1\n",
    "            self.pintura(node)\n",
    "        self.pintura(node.left)\n",
    "        self.pintura(node.right)\n",
    "        if self.k<3:\n",
    "            if self.k % 2 != 0:\n",
    "                self.mostra_largura(self.raiz.left)\n",
    "            else:\n",
    "                self.mostra_largura(self.raiz.right)     \n",
    "        else: \n",
    "            self.k = 0\n",
    "        \n",
    "    def pintura(self, node):\n",
    "        if node.left is not None:\n",
    "            print(node.left)\n",
    "            self.contador += 1\n",
    "        if node.right is not None:\n",
    "            print(node.right)\n",
    "            self.contador += 1\n",
    "            \n",
    "    def full(self):\n",
    "        self.mostra_largura()\n",
    "        aux = 1\n",
    "        while aux < self.contador:\n",
    "            aux = aux * 2 + 1\n",
    "            if aux == self.contador:\n",
    "                return \"Cheia.\"\n",
    "        return \"Não é cheia.\"           \n",
    "        \n",
    "    def invert(self, node=None):\n",
    "        if node is None:\n",
    "            node = self.raiz\n",
    "        if node.left and node.right:    \n",
    "            aux = node.left\n",
    "            node.left = node.right\n",
    "            node.right = aux\n",
    "            self.invert(node.left)\n",
    "            self.invert(node.right)\n",
    "        \n",
    "tree = ArvoreBinaria()        \n",
    "        \n",
    "raiz = Node(1)\n",
    "node2 = Node(2)\n",
    "node3 = Node(3)\n",
    "node4 = Node(4)\n",
    "node5 = Node(5)\n",
    "node6 = Node(6)\n",
    "node7 = Node(7)\n",
    "node8 = Node(8)\n",
    "node9 = Node(9)\n",
    "node10 = Node(10)\n",
    "node11 = Node(11)\n",
    "node12 = Node(12)\n",
    "\n",
    "tree.root(raiz)\n",
    "tree.insertleft(node2, raiz)\n",
    "tree.insertright(node3, raiz)\n",
    "tree.insertleft(node4, node2)\n",
    "tree.insertright(node5, node2)\n",
    "tree.insertleft(node6, node3)\n",
    "tree.insertright(node7, node3)\n",
    "tree.insertleft(node8, node4)\n",
    "tree.insertright(node9, node5)\n",
    "tree.insertleft(node10, node6)\n",
    "tree.insertright(node11, node6)\n",
    "tree.insertleft(node12, node7)\n"
   ]
  },
  {
   "cell_type": "code",
   "execution_count": 13,
   "metadata": {},
   "outputs": [],
   "source": [
    "class BinariadeBusca(ArvoreBinaria):\n",
    "    def insert (self, valor):\n",
    "        pai = None\n",
    "        x = self.raiz\n",
    "        while x:\n",
    "            pai = x\n",
    "            if valor < x.data:\n",
    "                x = x.left\n",
    "            else:\n",
    "                x = x.right\n",
    "        if pai is None:\n",
    "            self.root = Node(valor)\n",
    "        elif valor < pai.data:\n",
    "            pai.left = Node(valor)\n",
    "        else:\n",
    "            pai.right = Node(valor)\n",
    "            \n",
    "    def  search (self, valor, node=0):\n",
    "        if node == 0:\n",
    "            node = self.root\n",
    "        if node is None:\n",
    "            return node\n",
    "        if node.data == valor:\n",
    "            return BinariaDeBusca(node)\n",
    "        if valor < node.data:\n",
    "            return self.search (valor, node.left)\n",
    "        return self.search (valor, node.right)\n",
    "            \n",
    "        "
   ]
  },
  {
   "cell_type": "code",
   "execution_count": 14,
   "metadata": {},
   "outputs": [
    {
     "name": "stdout",
     "output_type": "stream",
     "text": [
      "1\n",
      "2\n",
      "3\n",
      "4\n",
      "5\n",
      "6\n",
      "7\n",
      "8\n",
      "9\n",
      "10\n",
      "11\n",
      "12\n"
     ]
    }
   ],
   "source": [
    "tree.mostra_largura()"
   ]
  },
  {
   "cell_type": "code",
   "execution_count": null,
   "metadata": {},
   "outputs": [],
   "source": []
  }
 ],
 "metadata": {
  "kernelspec": {
   "display_name": "Python 3",
   "language": "python",
   "name": "python3"
  },
  "language_info": {
   "codemirror_mode": {
    "name": "ipython",
    "version": 3
   },
   "file_extension": ".py",
   "mimetype": "text/x-python",
   "name": "python",
   "nbconvert_exporter": "python",
   "pygments_lexer": "ipython3",
   "version": "3.8.6"
  }
 },
 "nbformat": 4,
 "nbformat_minor": 4
}
