{
 "cells": [
  {
   "cell_type": "code",
   "execution_count": 1,
   "metadata": {},
   "outputs": [],
   "source": [
    "ROOT = \"root\"\n",
    "class Fila:\n",
    "    def __init__(self):\n",
    "        self.first = None\n",
    "        self.last = None\n",
    "        self._size = 0\n",
    "    def push (self, elem):\n",
    "        if self._size > 0:\n",
    "            self.last.next = elem\n",
    "        else:    \n",
    "            self.first = elem\n",
    "        self.last = elem\n",
    "        self._size = self._size + 1    \n",
    "    def pop (self):\n",
    "        if self._size != 0:\n",
    "            elem = self.first\n",
    "            self.first = self.first.next\n",
    "            self._size = self._size - 1\n",
    "            return(elem)\n",
    "        else:\n",
    "            raise IndexError(\"A Fila está vazia, mano.\")\n",
    "    def peek (self):\n",
    "        if self._size != 0:\n",
    "             return (self.first.data) \n",
    "        else: \n",
    "             raise IndexError(\"A Fila está vazia, mano.\")\n",
    "    def __len__(self):\n",
    "        return self._size\n",
    "    def __repr__(self):\n",
    "        if self._size > 0:\n",
    "            r = \"\"\n",
    "            pointer = self.first\n",
    "            while (pointer):\n",
    "                r = r + str(pointer.data) + \" \"\n",
    "                pointer = pointer.next\n",
    "            return r\n",
    "        return \"Fila Vazia...\"\n",
    "    def __str__(self):\n",
    "        return self.__repr__()\n",
    " #================================================================================================================   \n",
    "class Pilha:\n",
    "    def __init__(self):\n",
    "        self.top = None\n",
    "        self._size = 0\n",
    "    def push (self, node):\n",
    "        node.next = self.top\n",
    "        self.top = node\n",
    "        self._size = self._size + 1\n",
    "    def pop  (self):\n",
    "        if self._size > 0:\n",
    "            node = self.top\n",
    "            self.top = self.top.next\n",
    "            self._size = self._size - 1\n",
    "            return node\n",
    "        raise IndexError(\"A Pilha está vazia\")\n",
    "    def peek (self):\n",
    "        if self._size > 0:\n",
    "            return self.top\n",
    "    def __len__(self):\n",
    "        return self._size\n",
    "    def __repr__(self):\n",
    "        r = \"\"\n",
    "        pointer = self.top\n",
    "        while (pointer):\n",
    "            r = r + str(pointer.data) + \"\\n\"\n",
    "            pointer = pointer.next\n",
    "        return r\n",
    "    def __str__(self):\n",
    "        return self.__repr__()    \n",
    "    \n",
    "# ==================================================================================\n",
    "# ====================================================================================\n",
    "# ===================================================================================   \n",
    "    \n",
    "    \n",
    "class Node:\n",
    "    def __init__(self, data):\n",
    "        self.data = data\n",
    "        self.left = None \n",
    "        self.right = None\n",
    "        self.next = None\n",
    "        \n",
    "    def __str__(self):\n",
    "         return str(self.data)\n",
    "\n",
    "class ArvoreBinaria:\n",
    "    \n",
    "    def __init__(self, data=None, node=None):\n",
    "        if node:\n",
    "            self.raiz = node\n",
    "        elif data:    \n",
    "            node = Node(data)\n",
    "            self.raiz = node\n",
    "        else:\n",
    "            self.raiz = None\n",
    "   \n",
    "    def root(self, node):\n",
    "        self.raiz = node\n",
    "    \n",
    "    def insertleft(self, node, node_pai):\n",
    "        node_pai.left = node\n",
    "\n",
    "    def insertright(self, node, node_pai):\n",
    "        node_pai.right = node     \n",
    "    \n",
    "    def mostra_largura(self, node=ROOT):\n",
    "        if node == ROOT:\n",
    "            node = self.raiz\n",
    "        fila = Fila()\n",
    "        fila.push(node)\n",
    "        while len(fila):\n",
    "            node = fila.pop()\n",
    "            if node.left:\n",
    "                fila.push(node.left)\n",
    "            if node.right:\n",
    "                fila.push(node.right)\n",
    "            print(node, end= \" \")             \n",
    "        \n",
    "class BinariadeBusca(ArvoreBinaria):\n",
    "    def insert (self, valor):\n",
    "        pai = None\n",
    "        x = self.raiz\n",
    "        while x:\n",
    "            pai = x\n",
    "            if valor < x.data:\n",
    "                x = x.left\n",
    "            else:\n",
    "                x = x.right\n",
    "        if pai is None:\n",
    "            self.raiz = Node(valor)\n",
    "        elif valor < pai.data:\n",
    "            pai.left = Node(valor)\n",
    "        else:\n",
    "            pai.right = Node(valor)\n",
    "\n",
    "    def mostra_largurabst(self, node=ROOT):\n",
    "        if node == ROOT:\n",
    "            node = self.raiz\n",
    "        fila = Fila()\n",
    "        fila.push(node)\n",
    "        while len(fila):\n",
    "            node = fila.pop()\n",
    "            if node.left:\n",
    "                fila.push(node.left)\n",
    "            if node.right:\n",
    "                fila.push(node.right)\n",
    "            print(node, end= \" \")       \n",
    "        \n",
    "    def minimo(self, node=ROOT):\n",
    "        if node == ROOT:\n",
    "            node = self.raiz\n",
    "        while node.left:\n",
    "            node = node.left\n",
    "        return node.data\n",
    "    \n",
    "    def maximo(self, node=ROOT):\n",
    "        if node == ROOT:\n",
    "            node = self.raiz\n",
    "        while node.right:\n",
    "            node = node.right\n",
    "        return node.data \n",
    "    \n",
    "    def remove(self, valor, node=ROOT):\n",
    "        if node == ROOT:\n",
    "            node = self.raiz\n",
    "        if node == None:\n",
    "            return node\n",
    "        if valor < node.data:\n",
    "            node.left = self.remove(valor, node.left)\n",
    "        elif valor > node.data:\n",
    "            node.right = self.remove(valor, node.right) \n",
    "        else:\n",
    "            if node.left is None:\n",
    "                return node.right\n",
    "            elif node.right is None:\n",
    "                return node.left\n",
    "            else:\n",
    "                substituto = self.min(node.right)\n",
    "                node.data = substituto\n",
    "                node.right = self.remove(substituto, node.right)\n",
    "         \n",
    "        return node\n",
    "    \n",
    "    \n",
    "    \n",
    "def inorder(raiz):\n",
    "        no = raiz\n",
    "        pilha = Pilha()\n",
    "        while True:\n",
    "            if no is not None:\n",
    "                pilha.push(no)\n",
    "                no = no.left\n",
    "            elif(pilha):\n",
    "                no = pilha.pop()\n",
    "                print(no.data, end=\" \")\n",
    "                \n",
    "                no = no.right\n",
    "            else:\n",
    "                break\n",
    "        print()   \n",
    "        \n",
    "def height(raiz):\n",
    "    if raiz is None:\n",
    "        return 0\n",
    "    return 1 + max(height(raiz.left), height(raiz.right))\n",
    "\n",
    "def isBalanced(raiz):\n",
    "    if raiz is None:\n",
    "        return True\n",
    "    \n",
    "    hleft = height(raiz.left)\n",
    "    hright = height(raiz.right)\n",
    "    \n",
    "    l = isBalanced(raiz.left)\n",
    "    r = isBalanced(raiz.right)\n",
    "    \n",
    "    if abs(hleft-hright)<=1:\n",
    "        return l and r\n",
    "        \n",
    "    return False\n"
   ]
  },
  {
   "cell_type": "code",
   "execution_count": 2,
   "metadata": {},
   "outputs": [],
   "source": [
    "arvore = BinariadeBusca()\n",
    "arvore.insert(120)\n",
    "arvore.insert(100)\n",
    "arvore.insert(130)\n",
    "arvore.insert(80)\n",
    "arvore.insert(110)\n",
    "arvore.insert(200)\n",
    "arvore.insert(150)\n",
    "\n",
    "arvore1 = BinariadeBusca()\n",
    "arvore1.insert(42)\n",
    "arvore1.insert(15)\n",
    "arvore1.insert(88)\n",
    "arvore1.insert(6)\n",
    "arvore1.insert(27)\n",
    "arvore1.insert(63)\n",
    "arvore1.insert(94)\n",
    "arvore1.insert(20)\n",
    "arvore1.insert(57)\n",
    "arvore1.insert(71)\n",
    "\n",
    "arvore2 = BinariadeBusca()\n",
    "arvore2.insert(42)\n",
    "arvore2.insert(15)\n",
    "arvore2.insert(88)\n",
    "arvore2.insert(6)\n",
    "arvore2.insert(27)\n",
    "arvore2.insert(63)\n",
    "arvore2.insert(94)\n",
    "\n",
    "arvore3 = BinariadeBusca()\n",
    "arvore3.insert(42)\n",
    "arvore3.insert(15)\n",
    "arvore3.insert(88)\n",
    "arvore3.insert(27)\n",
    "arvore3.insert(63)\n",
    "arvore3.insert(20)\n",
    "arvore3.insert(57)\n",
    "arvore3.insert(71)\n"
   ]
  },
  {
   "cell_type": "code",
   "execution_count": 3,
   "metadata": {},
   "outputs": [
    {
     "data": {
      "text/plain": [
       "200"
      ]
     },
     "execution_count": 3,
     "metadata": {},
     "output_type": "execute_result"
    }
   ],
   "source": [
    "arvore.maximo()"
   ]
  },
  {
   "cell_type": "code",
   "execution_count": 4,
   "metadata": {},
   "outputs": [
    {
     "data": {
      "text/plain": [
       "80"
      ]
     },
     "execution_count": 4,
     "metadata": {},
     "output_type": "execute_result"
    }
   ],
   "source": [
    "arvore.minimo()"
   ]
  },
  {
   "cell_type": "code",
   "execution_count": 5,
   "metadata": {},
   "outputs": [
    {
     "name": "stdout",
     "output_type": "stream",
     "text": [
      "120\n"
     ]
    }
   ],
   "source": [
    "print(arvore.raiz)"
   ]
  },
  {
   "cell_type": "code",
   "execution_count": 6,
   "metadata": {},
   "outputs": [
    {
     "name": "stdout",
     "output_type": "stream",
     "text": [
      "80 100 110 120 130 150 200 \n"
     ]
    }
   ],
   "source": [
    "inorder(arvore.raiz)"
   ]
  },
  {
   "cell_type": "code",
   "execution_count": 7,
   "metadata": {},
   "outputs": [
    {
     "name": "stdout",
     "output_type": "stream",
     "text": [
      "120 100 130 80 110 200 150 "
     ]
    }
   ],
   "source": [
    "arvore.mostra_largurabst()"
   ]
  },
  {
   "cell_type": "code",
   "execution_count": 8,
   "metadata": {},
   "outputs": [
    {
     "data": {
      "text/plain": [
       "4"
      ]
     },
     "execution_count": 8,
     "metadata": {},
     "output_type": "execute_result"
    }
   ],
   "source": [
    "height(arvore.raiz)"
   ]
  },
  {
   "cell_type": "code",
   "execution_count": 9,
   "metadata": {},
   "outputs": [
    {
     "data": {
      "text/plain": [
       "False"
      ]
     },
     "execution_count": 9,
     "metadata": {},
     "output_type": "execute_result"
    }
   ],
   "source": [
    "isBalanced(arvore.raiz)"
   ]
  },
  {
   "cell_type": "code",
   "execution_count": 10,
   "metadata": {},
   "outputs": [
    {
     "data": {
      "text/plain": [
       "2"
      ]
     },
     "execution_count": 10,
     "metadata": {},
     "output_type": "execute_result"
    }
   ],
   "source": [
    "height(arvore.raiz.left)"
   ]
  },
  {
   "cell_type": "code",
   "execution_count": 11,
   "metadata": {},
   "outputs": [
    {
     "data": {
      "text/plain": [
       "3"
      ]
     },
     "execution_count": 11,
     "metadata": {},
     "output_type": "execute_result"
    }
   ],
   "source": [
    "height(arvore.raiz.right)"
   ]
  },
  {
   "cell_type": "code",
   "execution_count": 12,
   "metadata": {},
   "outputs": [
    {
     "name": "stdout",
     "output_type": "stream",
     "text": [
      "6 15 20 27 42 57 63 71 88 94 \n"
     ]
    }
   ],
   "source": [
    "inorder(arvore1.raiz)"
   ]
  },
  {
   "cell_type": "code",
   "execution_count": 13,
   "metadata": {},
   "outputs": [
    {
     "name": "stdout",
     "output_type": "stream",
     "text": [
      "42 15 88 6 27 63 94 20 57 71 "
     ]
    }
   ],
   "source": [
    "arvore1.mostra_largurabst()"
   ]
  },
  {
   "cell_type": "code",
   "execution_count": 14,
   "metadata": {},
   "outputs": [
    {
     "data": {
      "text/plain": [
       "True"
      ]
     },
     "execution_count": 14,
     "metadata": {},
     "output_type": "execute_result"
    }
   ],
   "source": [
    "isBalanced(arvore1.raiz)"
   ]
  },
  {
   "cell_type": "code",
   "execution_count": 15,
   "metadata": {},
   "outputs": [
    {
     "data": {
      "text/plain": [
       "True"
      ]
     },
     "execution_count": 15,
     "metadata": {},
     "output_type": "execute_result"
    }
   ],
   "source": [
    "isBalanced(arvore2.raiz)"
   ]
  },
  {
   "cell_type": "code",
   "execution_count": 16,
   "metadata": {},
   "outputs": [
    {
     "data": {
      "text/plain": [
       "False"
      ]
     },
     "execution_count": 16,
     "metadata": {},
     "output_type": "execute_result"
    }
   ],
   "source": [
    "isBalanced(arvore3.raiz)"
   ]
  },
  {
   "cell_type": "code",
   "execution_count": null,
   "metadata": {},
   "outputs": [],
   "source": []
  }
 ],
 "metadata": {
  "kernelspec": {
   "display_name": "Python 3",
   "language": "python",
   "name": "python3"
  },
  "language_info": {
   "codemirror_mode": {
    "name": "ipython",
    "version": 3
   },
   "file_extension": ".py",
   "mimetype": "text/x-python",
   "name": "python",
   "nbconvert_exporter": "python",
   "pygments_lexer": "ipython3",
   "version": "3.8.6"
  }
 },
 "nbformat": 4,
 "nbformat_minor": 4
}
