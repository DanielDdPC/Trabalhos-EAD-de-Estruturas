{
 "cells": [
  {
   "cell_type": "code",
   "execution_count": 2,
   "metadata": {},
   "outputs": [],
   "source": [
    "ROOT = \"root\"\n",
    "class Fila:\n",
    "    def __init__(self):\n",
    "        self.first = None\n",
    "        self.last = None\n",
    "        self._size = 0\n",
    "        \n",
    "    def push (self, elem):\n",
    "        if self._size > 0:\n",
    "            self.last.next = elem\n",
    "        else:    \n",
    "            self.first = elem\n",
    "            \n",
    "        self.last = elem\n",
    "        self._size = self._size + 1    \n",
    "        \n",
    "    def pop (self):\n",
    "        if self._size != 0:\n",
    "            elem = self.first\n",
    "            self.first = self.first.next\n",
    "            self._size = self._size - 1\n",
    "            return(elem)\n",
    "        else:\n",
    "            raise IndexError(\"A Fila está vazia, mano.\")\n",
    "        \n",
    "        \n",
    "    def peek (self):\n",
    "        if self._size != 0:\n",
    "             return (self.first.data) \n",
    "        else: \n",
    "             raise IndexError(\"A Fila está vazia, mano.\")\n",
    "        \n",
    "    def __len__(self):\n",
    "        return self._size\n",
    "        \n",
    "    def __repr__(self):\n",
    "        \n",
    "        if self._size > 0:\n",
    "            r = \"\"\n",
    "            pointer = self.first\n",
    "            while (pointer):\n",
    "                r = r + str(pointer.data) + \" \"\n",
    "                pointer = pointer.next\n",
    "            return r\n",
    "        return \"Fila Vazia...\"\n",
    "        \n",
    "    def __str__(self):\n",
    "        return self.__repr__()\n",
    "    \n",
    "    \n",
    "# ========================================================================================================\n",
    "# ========================================================================================================\n",
    "# ========================================================================================================\n",
    "class Node:\n",
    "    def __init__(self, data):\n",
    "        self.data = data\n",
    "        self.right = None\n",
    "        self.left = None\n",
    "        self.next = None\n",
    "    \n",
    "    def __str__(self):\n",
    "         return str(self.data)\n",
    "        \n",
    "    \n",
    "class ArvoreBinaria:\n",
    "    \n",
    "    def __init__(self, data=None):\n",
    "        node = Node(data)\n",
    "        self.raiz = node\n",
    "   \n",
    "    def root(self, node):\n",
    "        self.raiz = node\n",
    "        contador =+ 1\n",
    "    \n",
    "    def insertleft(self, node, node_pai):\n",
    "        node_pai.left = node\n",
    "        contador =+ 1\n",
    "        \n",
    "    def insertright(self, node, node_pai):\n",
    "        node_pai.right = node\n",
    "        contador =+ 1\n",
    "        \n",
    "    def mostra_largura(self, node=ROOT):\n",
    "        if node == ROOT:\n",
    "            node = self.raiz\n",
    "        teste = Fila()\n",
    "        teste.push(node)\n",
    "        while len(teste):\n",
    "            node = teste.pop()\n",
    "            if node.left:\n",
    "                teste.push(node.left)\n",
    "            if node.right:\n",
    "                teste.push(node.right)\n",
    "            print(node, end= \" \") \n",
    "    \n",
    "    def invert(self, node=None):\n",
    "        if node is None:\n",
    "            node = self.raiz\n",
    "        if node.left and node.right:    \n",
    "            aux = node.left\n",
    "            node.left = node.right\n",
    "            node.right = aux\n",
    "            self.invert(node.left)\n",
    "            self.invert(node.right)\n",
    "        \n",
    "def full(raiz): \n",
    "     \n",
    "        if raiz is None:     \n",
    "            return True\n",
    "      \n",
    "        if raiz.left is None and raiz.right is None: \n",
    "            return True\n",
    "  \n",
    "        if raiz.left is not None and raiz.right is not None: \n",
    "            return (full(raiz.left) and full(raiz.right)) \n",
    "      \n",
    "        return False   \n",
    "\n",
    "def height(raiz):\n",
    "    if raiz is None:\n",
    "        return 0\n",
    "    return 1 + max(height(raiz.left), height(raiz.right))\n",
    "        \n",
    "tree = ArvoreBinaria()        \n",
    "        \n",
    "raiz = Node(1)\n",
    "node2 = Node(2)\n",
    "node3 = Node(3)\n",
    "node4 = Node(4)\n",
    "node5 = Node(5)\n",
    "node6 = Node(6)\n",
    "node7 = Node(7)\n",
    "node8 = Node(8)\n",
    "node9 = Node(9)\n",
    "node10 = Node(10)\n",
    "node11 = Node(11)\n",
    "node12 = Node(12)\n",
    "node13 = Node(13)\n",
    "node14 = Node(14)\n",
    "node15 = Node(15)\n",
    "\n",
    "tree.root(raiz)\n",
    "tree.insertleft(node2, raiz)\n",
    "tree.insertright(node3, raiz)\n",
    "tree.insertleft(node4, node2)\n",
    "tree.insertright(node5, node2)\n",
    "tree.insertleft(node6, node3)\n",
    "tree.insertright(node7, node3)\n",
    "tree.insertleft(node8, node4)\n",
    "tree.insertright(node9, node5)\n",
    "tree.insertleft(node10, node6)\n",
    "tree.insertright(node11, node6)\n",
    "tree.insertright(node12, node7)\n",
    "tree.insertleft(node13, node7)\n",
    "tree.insertright(node14, node4)\n",
    "tree.insertleft(node15, node5)\n",
    "\n"
   ]
  },
  {
   "cell_type": "code",
   "execution_count": 3,
   "metadata": {},
   "outputs": [
    {
     "name": "stdout",
     "output_type": "stream",
     "text": [
      "1 2 3 4 5 6 7 8 14 15 9 10 11 13 12 "
     ]
    }
   ],
   "source": [
    "tree.mostra_largura()   "
   ]
  },
  {
   "cell_type": "code",
   "execution_count": 4,
   "metadata": {},
   "outputs": [
    {
     "data": {
      "text/plain": [
       "True"
      ]
     },
     "execution_count": 4,
     "metadata": {},
     "output_type": "execute_result"
    }
   ],
   "source": [
    "full(raiz)"
   ]
  },
  {
   "cell_type": "code",
   "execution_count": 5,
   "metadata": {},
   "outputs": [],
   "source": [
    "tree.invert()"
   ]
  },
  {
   "cell_type": "code",
   "execution_count": 6,
   "metadata": {},
   "outputs": [
    {
     "name": "stdout",
     "output_type": "stream",
     "text": [
      "1 3 2 7 6 5 4 12 13 11 10 9 15 14 8 "
     ]
    }
   ],
   "source": [
    "tree.mostra_largura()"
   ]
  },
  {
   "cell_type": "code",
   "execution_count": 13,
   "metadata": {},
   "outputs": [],
   "source": [
    "tree.invert()"
   ]
  },
  {
   "cell_type": "code",
   "execution_count": 14,
   "metadata": {},
   "outputs": [
    {
     "name": "stdout",
     "output_type": "stream",
     "text": [
      "1 2 3 4 5 6 7 8 14 15 9 10 11 13 12 "
     ]
    }
   ],
   "source": [
    "tree.mostra_largura()"
   ]
  },
  {
   "cell_type": "code",
   "execution_count": 15,
   "metadata": {},
   "outputs": [
    {
     "data": {
      "text/plain": [
       "4"
      ]
     },
     "execution_count": 15,
     "metadata": {},
     "output_type": "execute_result"
    }
   ],
   "source": [
    "height(raiz)"
   ]
  },
  {
   "cell_type": "code",
   "execution_count": null,
   "metadata": {},
   "outputs": [],
   "source": []
  }
 ],
 "metadata": {
  "kernelspec": {
   "display_name": "Python 3",
   "language": "python",
   "name": "python3"
  },
  "language_info": {
   "codemirror_mode": {
    "name": "ipython",
    "version": 3
   },
   "file_extension": ".py",
   "mimetype": "text/x-python",
   "name": "python",
   "nbconvert_exporter": "python",
   "pygments_lexer": "ipython3",
   "version": "3.8.6"
  }
 },
 "nbformat": 4,
 "nbformat_minor": 4
}
