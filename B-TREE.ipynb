{
 "cells": [
  {
   "cell_type": "code",
   "execution_count": 19,
   "metadata": {},
   "outputs": [],
   "source": [
    "from __future__ import (nested_scopes, generators, division, absolute_import, with_statement,\n",
    "                        print_function, unicode_literals)\n",
    "\n",
    "\n",
    "class BTree(object):\n",
    "    class Node(object):\n",
    "\n",
    "        def __init__(self, t):\n",
    "            self.data = []\n",
    "            self.children = []\n",
    "            self.leaf = True\n",
    "            self._t = t\n",
    "\n",
    "        def split(self, parent, valor):\n",
    "            new_node = self.__class__(self._t)\n",
    "\n",
    "            mid_point = self.size//2\n",
    "            split_value = self.data[mid_point]\n",
    "            parent.add_data(split_value)\n",
    "\n",
    "            new_node.children = self.children[mid_point + 1:]\n",
    "            self.children = self.children[:mid_point + 1]\n",
    "            new_node.data = self.data[mid_point+1:]\n",
    "            self.data = self.data[:mid_point]\n",
    "\n",
    "            if len(new_node.children) > 0:\n",
    "                new_node.leaf = False\n",
    "\n",
    "            parent.children = parent.add_child(new_node)\n",
    "            if valor < split_value:\n",
    "                return self\n",
    "            else:\n",
    "                return new_node\n",
    "\n",
    "        @property\n",
    "        def _is_full(self):\n",
    "            return self.size == 2 * self._t - 1\n",
    "\n",
    "        @property\n",
    "        def size(self):\n",
    "            return len(self.data)\n",
    "\n",
    "        def add_data(self, valor):\n",
    "            self.data.append(valor)\n",
    "            self.data.sort()\n",
    "\n",
    "        def add_child(self, new_node):\n",
    "            i = len(self.children) - 1\n",
    "            while i >= 0 and self.children[i].data[0] > new_node.data[0]:\n",
    "                i -= 1\n",
    "            return self.children[:i + 1]+ [new_node] + self.children[i + 1:]\n",
    "    \n",
    "    def __init__(self, t):\n",
    "        self._t = t\n",
    "        if self._t <= 1:\n",
    "            raise ValueError(\"Erro. Precisa ser maior ou igual a 2\")\n",
    "        self.raiz = self.Node(t)\n",
    "\n",
    "    def insert(self, valor):\n",
    "        node = self.raiz\n",
    "        if node._is_full:\n",
    "            new_raiz = self.Node(self._t)\n",
    "            new_raiz.children.append(self.raiz)\n",
    "            new_raiz.leaf = False\n",
    "\n",
    "            node = node.split(new_raiz, valor)\n",
    "            self.raiz = new_raiz\n",
    "        while not node.leaf:\n",
    "            i = node.size - 1\n",
    "            while i > 0 and valor < node.data[i] :\n",
    "                i -= 1\n",
    "            if valor > node.data[i]:\n",
    "                i += 1\n",
    "\n",
    "            next = node.children[i]\n",
    "            if next._is_full:\n",
    "                node = next.split(node, valor)\n",
    "            else:\n",
    "                node = next\n",
    "\n",
    "        node.add_data(valor)\n",
    "\n",
    "    def search(self, valor, node=None):\n",
    "        if node is None:\n",
    "            node = self.raiz\n",
    "        if valor in node.data:\n",
    "            return True\n",
    "        elif node.leaf:\n",
    "            return False\n",
    "        else:\n",
    "            i = 0\n",
    "            while i < node.size and valor > node.data[i]:\n",
    "                i += 1\n",
    "            return self.search(valor, node.children[i])\n",
    "\n",
    "    def print_order(self):\n",
    "        this_level = [self.raiz]\n",
    "        while this_level:\n",
    "            next_level = []\n",
    "            output = \"\"\n",
    "            for node in this_level:\n",
    "                if node.children:\n",
    "                    next_level.extend(node.children)\n",
    "                output += str(node.data) + \" \"\n",
    "            print(output)\n",
    "            this_level = next_level"
   ]
  },
  {
   "cell_type": "code",
   "execution_count": 20,
   "metadata": {},
   "outputs": [],
   "source": [
    "btree = BTree(3)"
   ]
  },
  {
   "cell_type": "code",
   "execution_count": 21,
   "metadata": {},
   "outputs": [],
   "source": [
    "btree.insert(1)"
   ]
  },
  {
   "cell_type": "code",
   "execution_count": 22,
   "metadata": {},
   "outputs": [],
   "source": [
    "btree.insert(3)\n",
    "btree.insert(6)\n",
    "btree.insert(8)\n",
    "btree.insert(14)\n",
    "btree.insert(32)\n",
    "btree.insert(36)\n",
    "btree.insert(39)\n",
    "btree.insert(41)\n",
    "btree.insert(43)\n"
   ]
  },
  {
   "cell_type": "code",
   "execution_count": 23,
   "metadata": {},
   "outputs": [
    {
     "name": "stdout",
     "output_type": "stream",
     "text": [
      "[6, 32] \n",
      "[1, 3] [8, 14] [36, 39, 41, 43] \n"
     ]
    }
   ],
   "source": [
    "btree.print_order()"
   ]
  },
  {
   "cell_type": "code",
   "execution_count": 24,
   "metadata": {},
   "outputs": [
    {
     "data": {
      "text/plain": [
       "True"
      ]
     },
     "execution_count": 24,
     "metadata": {},
     "output_type": "execute_result"
    }
   ],
   "source": [
    "btree.search(14)"
   ]
  },
  {
   "cell_type": "code",
   "execution_count": 25,
   "metadata": {},
   "outputs": [],
   "source": [
    "btree.insert(4)\n",
    "btree.insert(5)\n",
    "btree.insert(42)\n",
    "btree.insert(2)\n",
    "btree.insert(7)"
   ]
  },
  {
   "cell_type": "code",
   "execution_count": 26,
   "metadata": {},
   "outputs": [
    {
     "name": "stdout",
     "output_type": "stream",
     "text": [
      "[6, 32] \n",
      "[1, 2, 3, 4, 5] [7, 8, 14] [36, 39, 41, 42, 43] \n"
     ]
    }
   ],
   "source": [
    "btree.print_order()"
   ]
  },
  {
   "cell_type": "code",
   "execution_count": null,
   "metadata": {},
   "outputs": [],
   "source": []
  }
 ],
 "metadata": {
  "kernelspec": {
   "display_name": "Python 3",
   "language": "python",
   "name": "python3"
  },
  "language_info": {
   "codemirror_mode": {
    "name": "ipython",
    "version": 3
   },
   "file_extension": ".py",
   "mimetype": "text/x-python",
   "name": "python",
   "nbconvert_exporter": "python",
   "pygments_lexer": "ipython3",
   "version": "3.8.6"
  }
 },
 "nbformat": 4,
 "nbformat_minor": 4
}
