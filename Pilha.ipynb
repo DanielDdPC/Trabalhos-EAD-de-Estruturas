{
 "cells": [
  {
   "cell_type": "code",
   "execution_count": 18,
   "metadata": {},
   "outputs": [],
   "source": [
    "class Node: \n",
    "    def __init__(self, data):\n",
    "        self.data = data\n",
    "        self.next = None\n",
    "        \n",
    "    \n",
    "class Pilha:\n",
    "\n",
    "    def __init__(self):\n",
    "        self.top = None\n",
    "        self._size = 0\n",
    "        \n",
    "    def push (self, elem):\n",
    "        node = Node(elem)\n",
    "        node.next = self.top\n",
    "        self.top = node\n",
    "        self._size = self._size + 1\n",
    "    \n",
    "    def pop  (self):\n",
    "        if self._size > 0:\n",
    "          node = self.top\n",
    "          self.top = self.top.next\n",
    "          self._size = self._size - 1\n",
    "          return node.data\n",
    "        raise IndexError(\"A Pilha está vazia\")\n",
    "    \n",
    "    def peek (self):\n",
    "        if self._size > 0:\n",
    "           return self.top\n",
    "        raise IndexError(\"A Pilha está vazia\")\n",
    "    \n",
    "    def __len__(self):\n",
    "        return self._size\n",
    "    \n",
    "    def __repr__(self):\n",
    "        r = \"\"\n",
    "        pointer = self.top\n",
    "        while (pointer):\n",
    "            r = r + str(pointer.data) + \"\\n\"\n",
    "            pointer = pointer.next\n",
    "        return r\n",
    "    \n",
    "    def __str__(self):\n",
    "        return self.__repr__()\n",
    "            \n",
    "            \n",
    "      "
   ]
  },
  {
   "cell_type": "code",
   "execution_count": 20,
   "metadata": {},
   "outputs": [],
   "source": [
    "pilha = Pilha()"
   ]
  },
  {
   "cell_type": "code",
   "execution_count": 21,
   "metadata": {},
   "outputs": [
    {
     "data": {
      "text/plain": [
       "0"
      ]
     },
     "execution_count": 21,
     "metadata": {},
     "output_type": "execute_result"
    }
   ],
   "source": [
    "len(pilha)"
   ]
  },
  {
   "cell_type": "code",
   "execution_count": 23,
   "metadata": {},
   "outputs": [
    {
     "data": {
      "text/plain": []
     },
     "execution_count": 23,
     "metadata": {},
     "output_type": "execute_result"
    }
   ],
   "source": [
    "pilha"
   ]
  },
  {
   "cell_type": "code",
   "execution_count": 24,
   "metadata": {},
   "outputs": [],
   "source": [
    "pilha.push(3)"
   ]
  },
  {
   "cell_type": "code",
   "execution_count": 25,
   "metadata": {},
   "outputs": [],
   "source": [
    "pilha.push(\"DANIEEEL\")"
   ]
  },
  {
   "cell_type": "code",
   "execution_count": 26,
   "metadata": {},
   "outputs": [],
   "source": [
    "pilha.push(True)"
   ]
  },
  {
   "cell_type": "code",
   "execution_count": 27,
   "metadata": {},
   "outputs": [],
   "source": [
    "pilha.push(\"Estou Orgulhoso e Feliz\")"
   ]
  },
  {
   "cell_type": "code",
   "execution_count": 28,
   "metadata": {},
   "outputs": [
    {
     "name": "stdout",
     "output_type": "stream",
     "text": [
      "Estou Orgulhoso e Feliz\n",
      "True\n",
      "DANIEEEL\n",
      "3\n",
      "\n"
     ]
    }
   ],
   "source": [
    "print(pilha)"
   ]
  },
  {
   "cell_type": "code",
   "execution_count": 29,
   "metadata": {},
   "outputs": [
    {
     "data": {
      "text/plain": [
       "4"
      ]
     },
     "execution_count": 29,
     "metadata": {},
     "output_type": "execute_result"
    }
   ],
   "source": [
    "len(pilha)"
   ]
  },
  {
   "cell_type": "code",
   "execution_count": null,
   "metadata": {},
   "outputs": [],
   "source": []
  }
 ],
 "metadata": {
  "kernelspec": {
   "display_name": "Python 3",
   "language": "python",
   "name": "python3"
  },
  "language_info": {
   "codemirror_mode": {
    "name": "ipython",
    "version": 3
   },
   "file_extension": ".py",
   "mimetype": "text/x-python",
   "name": "python",
   "nbconvert_exporter": "python",
   "pygments_lexer": "ipython3",
   "version": "3.8.6"
  }
 },
 "nbformat": 4,
 "nbformat_minor": 4
}
