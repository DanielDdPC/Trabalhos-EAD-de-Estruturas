{
 "cells": [
  {
   "cell_type": "code",
   "execution_count": 1,
   "metadata": {},
   "outputs": [],
   "source": [
    "# Implemente o algoritmo mostra_largura na classe Arvore, que deve exibir os nós da árvore através de uma estratégia de busca em largura.\n"
   ]
  },
  {
   "cell_type": "code",
   "execution_count": 1,
   "metadata": {},
   "outputs": [],
   "source": [
    "class Node:\n",
    "    def __init__(self, data):\n",
    "        self.data = data\n",
    "        self.prox = []\n",
    "        \n",
    "    def adiciona(self, node):\n",
    "        self.prox.insert(0,node)\n",
    "    \n",
    "    def __str__(self):\n",
    "        return str(self.data)\n",
    "        \n",
    "class Arvore:         \n",
    "    def __init__(self, node):\n",
    "        self.raiz = node\n",
    "    def mostra_largura(self):\n",
    "        node = self.raiz\n",
    "        self.pintura(node)\n",
    "        k = 0\n",
    "        while k < 3:\n",
    "            for i in reversed(range(len(node.prox))):\n",
    "               self.pintura(node.prox[i])\n",
    "            \n",
    "            if len(node.prox) > 0:\n",
    "                node = node.prox[len(node.prox)-1]\n",
    "            k += 1\n",
    "        \n",
    "    def pintura(self, node):\n",
    "        if node is self.raiz:\n",
    "            print(node.data)\n",
    "            \n",
    "        if node.prox is not None:\n",
    "            for i in reversed(range(len(node.prox))):    \n",
    "                print (node.prox[i].data)      \n",
    "        \n",
    "        \n",
    "raiz = Node(1)\n",
    "arvore = Arvore(raiz)\n",
    "node2 = Node(2)\n",
    "node3 = Node(3)\n",
    "node4 = Node(4)\n",
    "node5 = Node(5)\n",
    "node6 = Node(6)\n",
    "node7 = Node(7)\n",
    "node8 = Node(8)\n",
    "node9 = Node(9)\n",
    "node10 = Node(10)\n",
    "node11 = Node(11)\n",
    "\n",
    "raiz.adiciona(node2)\n",
    "raiz.adiciona(node3)\n",
    "raiz.adiciona(node4)\n",
    "node2.adiciona(node5)\n",
    "node2.adiciona(node6)\n",
    "node3.adiciona(node7)\n",
    "node4.adiciona(node8)\n",
    "node4.adiciona(node9)\n",
    "node5.adiciona(node10)\n",
    "node5.adiciona(node11)\n",
    "\n",
    "     \n",
    "    "
   ]
  },
  {
   "cell_type": "code",
   "execution_count": 2,
   "metadata": {},
   "outputs": [
    {
     "name": "stdout",
     "output_type": "stream",
     "text": [
      "1\n",
      "2\n",
      "3\n",
      "4\n"
     ]
    }
   ],
   "source": [
    "arvore.pintura(raiz)"
   ]
  },
  {
   "cell_type": "code",
   "execution_count": 3,
   "metadata": {},
   "outputs": [
    {
     "name": "stdout",
     "output_type": "stream",
     "text": [
      "1\n",
      "2\n",
      "3\n",
      "4\n",
      "5\n",
      "6\n",
      "7\n",
      "8\n",
      "9\n",
      "10\n",
      "11\n"
     ]
    }
   ],
   "source": [
    "arvore.mostra_largura()"
   ]
  },
  {
   "cell_type": "code",
   "execution_count": null,
   "metadata": {},
   "outputs": [],
   "source": []
  }
 ],
 "metadata": {
  "kernelspec": {
   "display_name": "Python 3",
   "language": "python",
   "name": "python3"
  },
  "language_info": {
   "codemirror_mode": {
    "name": "ipython",
    "version": 3
   },
   "file_extension": ".py",
   "mimetype": "text/x-python",
   "name": "python",
   "nbconvert_exporter": "python",
   "pygments_lexer": "ipython3",
   "version": "3.8.6"
  }
 },
 "nbformat": 4,
 "nbformat_minor": 4
}
